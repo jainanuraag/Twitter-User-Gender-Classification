{
 "cells": [
  {
   "cell_type": "code",
   "execution_count": 76,
   "metadata": {
    "collapsed": true
   },
   "outputs": [],
   "source": [
    "import numpy as np\n",
    "import pandas as pd\n",
    "import matplotlib.pyplot as plt\n",
    "import random\n",
    "import re\n",
    "\n",
    "from sklearn.feature_extraction.text import CountVectorizer\n",
    "from sklearn.preprocessing import LabelEncoder\n",
    "from sklearn.naive_bayes import MultinomialNB\n",
    "from sklearn.metrics import classification_report\n",
    "from sklearn.metrics import accuracy_score"
   ]
  },
  {
   "cell_type": "code",
   "execution_count": 77,
   "metadata": {
    "collapsed": true
   },
   "outputs": [],
   "source": [
    "df = pd.read_csv(\"gender-classifier-DFE-791531.csv\", encoding='latin1')"
   ]
  },
  {
   "cell_type": "code",
   "execution_count": 78,
   "metadata": {
    "collapsed": true,
    "scrolled": true
   },
   "outputs": [],
   "source": [
    "# Utility function taken from: https://github.com/rasto2211/Twitter-User-Gender-Classification/blob/master/notebooks/exploration.ipynb\n",
    "# Normalizes text for analysis by removing URLs, special characters, and double spaces\n",
    "\n",
    "def normalize_text(text):\n",
    "    # Remove non-ASCII chars.\n",
    "    text = re.sub('[^\\x00-\\x7F]+',' ', text)\n",
    "    \n",
    "    # Remove URLs\n",
    "    text = re.sub('https?:\\/\\/.*[\\r\\n]*', ' ', text)\n",
    "    \n",
    "    # Remove special chars.\n",
    "    text = re.sub('[?!+%{}:;.,\"\\'()\\[\\]_]', '',text)\n",
    "    \n",
    "    # Remove double spaces.\n",
    "    text = re.sub('\\s+',' ',text)\n",
    "    return text\n",
    "\n",
    "df['edited_text'] = [normalize_text(text) for text in df['text']]\n",
    "#print(df['edited_text'])"
   ]
  },
  {
   "cell_type": "code",
   "execution_count": 79,
   "metadata": {
    "collapsed": true
   },
   "outputs": [],
   "source": [
    "# Choose data only where gender is either male or female and gender classification confidence is about 1\n",
    "chosen_rows = df[df[\"gender\"].isin([\"male\", \"female\"]) & (df[\"gender:confidence\"] > 0.99)].index.tolist()\n",
    "\n",
    "# Shuffle data to ensure randomness\n",
    "random.shuffle(chosen_rows)\n",
    "\n",
    "# Data Guidelines according to Canvas\n",
    "n = len(chosen_rows)\n",
    "train_data_size = .6\n",
    "test_data_size = .2\n",
    "validation_data_size = .2\n",
    "\n",
    "# Partition chosen_rows\n",
    "train_data_nrows = round(train_data_size * n)\n",
    "train_data = chosen_rows[:train_data_nrows]\n",
    "validation_data_upper_limit = (train_data_nrows + round(validation_data_size * n))\n",
    "validation_data = chosen_rows[train_data_nrows : validation_data_upper_limit]\n",
    "test_data = chosen_rows[validation_data_upper_limit:]"
   ]
  },
  {
   "cell_type": "code",
   "execution_count": 80,
   "metadata": {},
   "outputs": [
    {
     "name": "stderr",
     "output_type": "stream",
     "text": [
      "/anaconda3/lib/python3.6/site-packages/ipykernel_launcher.py:2: DeprecationWarning: \n",
      ".ix is deprecated. Please use\n",
      ".loc for label based indexing or\n",
      ".iloc for positional indexing\n",
      "\n",
      "See the documentation here:\n",
      "http://pandas.pydata.org/pandas-docs/stable/indexing.html#ix-indexer-is-deprecated\n",
      "  \n"
     ]
    }
   ],
   "source": [
    "# Our own MNB implementation\n",
    "train_data_1 = df.ix[train_data, :][\"edited_text\"]\n",
    "validation_data_1 = df.ix[validation_data, :][\"edited_text\"]\n",
    "vectorizer_1 = CountVectorizer().fit_transform(train_data_1)"
   ]
  },
  {
   "cell_type": "code",
   "execution_count": 81,
   "metadata": {},
   "outputs": [],
   "source": [
    "# Making classifier\n",
    "vectorizer = CountVectorizer()\n",
    "#train_counts = vectorizer.fit_transform(df.ix[train_data, :][\"edited_text\"])\n",
    "vectorizer = vectorizer.fit(df.ix[train_data, :][\"edited_text\"])\n",
    "x_train = vectorizer.transform(df.ix[train_data, \"edited_text\"])\n",
    "encoder = LabelEncoder()\n",
    "y_train = encoder.fit_transform(df.loc[train_data, \"gender\"])\n",
    "#print(x_train)\n",
    "#print(y_train)"
   ]
  },
  {
   "cell_type": "code",
   "execution_count": 82,
   "metadata": {},
   "outputs": [
    {
     "name": "stdout",
     "output_type": "stream",
     "text": [
      "             precision    recall  f1-score   support\n",
      "\n",
      "     female       0.60      0.78      0.68      1059\n",
      "       male       0.63      0.42      0.51       945\n",
      "\n",
      "avg / total       0.62      0.61      0.60      2004\n",
      "\n",
      "accuracy score: 0.6132734530938124\n"
     ]
    }
   ],
   "source": [
    "nb = MultinomialNB()\n",
    "nb = nb.fit(x_train, y_train)\n",
    "x_val = vectorizer.transform(df.ix[validation_data, \"edited_text\"])\n",
    "y_val = encoder.transform(df.ix[validation_data, \"gender\"])\n",
    "print(classification_report(y_val, nb.predict(x_val), target_names=encoder.classes_))\n",
    "print(f\"accuracy score: {accuracy_score(y_val, nb.predict(x_val))}\")"
   ]
  }
 ],
 "metadata": {
  "kernelspec": {
   "display_name": "Python 3",
   "language": "python",
   "name": "python3"
  },
  "language_info": {
   "codemirror_mode": {
    "name": "ipython",
    "version": 3
   },
   "file_extension": ".py",
   "mimetype": "text/x-python",
   "name": "python",
   "nbconvert_exporter": "python",
   "pygments_lexer": "ipython3",
   "version": "3.6.2"
  }
 },
 "nbformat": 4,
 "nbformat_minor": 2
}
