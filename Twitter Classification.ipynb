{
 "cells": [
  {
   "cell_type": "code",
   "execution_count": null,
   "metadata": {
    "collapsed": true
   },
   "outputs": [],
   "source": [
    "import numpy as np\n",
    "import pandas as pd\n",
    "import matplotlib.pyplot as plt\n",
    "import random\n",
    "import re\n",
    "\n",
    "from sklearn.feature_extraction.text import CountVectorizer\n",
    "from sklearn.preprocessing import LabelEncoder\n",
    "from sklearn.metrics import classification_report\n",
    "from sklearn.metrics import accuracy_score\n",
    "from sklearn.linear_model import LogisticRegression\n",
    "from sklearn.svm import SVC\n",
    "from sklearn.preprocessing import StandardScaler"
   ]
  },
  {
   "cell_type": "code",
   "execution_count": null,
   "metadata": {
    "collapsed": true
   },
   "outputs": [],
   "source": [
    "df = pd.read_csv(\"/Users/anuraagjain/Downloads/gender-classifier-DFE-791531.csv\", encoding='latin1')"
   ]
  },
  {
   "cell_type": "code",
   "execution_count": null,
   "metadata": {
    "collapsed": true,
    "scrolled": true
   },
   "outputs": [],
   "source": [
    "# Utility function taken from: https://github.com/rasto2211/Twitter-User-Gender-Classification/blob/master/notebooks/exploration.ipynb\n",
    "# Normalizes text for analysis by removing URLs, special characters, and double spaces\n",
    "\n",
    "def normalize_text(text):\n",
    "    # Remove non-ASCII chars.\n",
    "    text = re.sub('[^\\x00-\\x7F]+',' ', text)\n",
    "    \n",
    "    # Remove URLs\n",
    "    text = re.sub('https?:\\/\\/.*[\\r\\n]*', ' ', text)\n",
    "    \n",
    "    # Remove special chars.\n",
    "    text = re.sub('[?!+%{}:;.,\"\\'()\\[\\]_]', '',text)\n",
    "    \n",
    "    # Remove double spaces.\n",
    "    text = re.sub('\\s+',' ',text)\n",
    "    \n",
    "    return text\n",
    "\n",
    "df['edited_text'] = [normalize_text(text) for text in df['text']]\n",
    "\n",
    "print(df['edited_text'])"
   ]
  },
  {
   "cell_type": "code",
   "execution_count": null,
   "metadata": {
    "collapsed": true
   },
   "outputs": [],
   "source": [
    "# Choose data only where gender is either male or female and gender classification confidence is about 1\n",
    "chosen_rows = df[df[\"gender\"].isin([\"male\", \"female\"]) & (df[\"gender:confidence\"] > 0.99)].index.tolist()\n",
    "\n",
    "# Shuffle data to ensure randomness\n",
    "random.shuffle(chosen_rows)\n",
    "\n",
    "n = len(chosen_rows)\n",
    "train_data_size = .6\n",
    "test_data_size = .2\n",
    "validation_data_size = .2\n",
    "\n",
    "# Partition chosen_rows\n",
    "train_data_nrows = round(train_data_size * n)\n",
    "train_data = chosen_rows[:train_data_nrows]\n",
    "validation_data_upper_limit = (train_data_nrows + round(validation_data_size * n))\n",
    "validation_data = chosen_rows[train_data_nrows : validation_data_upper_limit]\n",
    "test_data = chosen_rows[validation_data_upper_limit:]"
   ]
  },
  {
   "cell_type": "code",
   "execution_count": null,
   "metadata": {
    "collapsed": true
   },
   "outputs": [],
   "source": [
    "# Making classifier\n",
    "train_counts = CountVectorizer().fit_tr"
   ]
  }
 ],
 "metadata": {
  "kernelspec": {
   "display_name": "Python 3",
   "language": "python",
   "name": "python3"
  },
  "language_info": {
   "codemirror_mode": {
    "name": "ipython",
    "version": 3
   },
   "file_extension": ".py",
   "mimetype": "text/x-python",
   "name": "python",
   "nbconvert_exporter": "python",
   "pygments_lexer": "ipython3",
   "version": "3.6.2"
  }
 },
 "nbformat": 4,
 "nbformat_minor": 2
}
